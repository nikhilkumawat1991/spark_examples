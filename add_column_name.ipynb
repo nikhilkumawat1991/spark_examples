{
 "cells": [
  {
   "cell_type": "code",
   "execution_count": 2,
   "id": "58650627",
   "metadata": {},
   "outputs": [],
   "source": [
    "import findspark\n",
    "findspark.init()\n",
    "from pyspark.sql import SparkSession\n",
    "from pyspark.sql.types import ArrayType, StructField, StructType, StringType, IntegerType, DecimalType\n"
   ]
  },
  {
   "cell_type": "code",
   "execution_count": 3,
   "id": "f1068bb6",
   "metadata": {},
   "outputs": [],
   "source": [
    "appName = \"PySpark Example - Python Array/List to Spark Data Frame\"\n",
    "master = \"local\"\n",
    "\n",
    "# Create Spark session\n",
    "spark = SparkSession.builder \\\n",
    "    .appName(appName) \\\n",
    "    .master(master) \\\n",
    "    .getOrCreate()\n"
   ]
  },
  {
   "cell_type": "code",
   "execution_count": 4,
   "id": "74e32235",
   "metadata": {},
   "outputs": [
    {
     "name": "stdout",
     "output_type": "stream",
     "text": [
      "<class 'list'>\n",
      "<class 'pyspark.rdd.RDD'>\n",
      "<class 'list'>\n"
     ]
    }
   ],
   "source": [
    "# List\n",
    "data = [('Category A', None, \"This is category A\"),\n",
    "        ('Category B', 120, \"This is category B\"),\n",
    "        (None, 150, \"This is category C\")]\n",
    "\n",
    "print(type(data))\n",
    "\n",
    "# Create a schema for the dataframe\n",
    "schema = StructType([\n",
    "    StructField('Category', StringType(), True),\n",
    "    StructField('Count', IntegerType(), True),\n",
    "    StructField('Description', StringType(), True)\n",
    "])\n",
    "\n",
    "# Convert list to RDD\n",
    "rdd = spark.sparkContext.parallelize(data)\n",
    "print(type(rdd))\n",
    "print(type(rdd.collect()))\n"
   ]
  },
  {
   "cell_type": "code",
   "execution_count": 5,
   "id": "1ebc81d3",
   "metadata": {},
   "outputs": [
    {
     "name": "stdout",
     "output_type": "stream",
     "text": [
      "StructType(List(StructField(Category,StringType,true),StructField(Count,IntegerType,true),StructField(Description,StringType,true)))\n",
      "+----------+-----+------------------+\n",
      "|  Category|Count|       Description|\n",
      "+----------+-----+------------------+\n",
      "|Category A| null|This is category A|\n",
      "|Category B|  120|This is category B|\n",
      "|      null|  150|This is category C|\n",
      "+----------+-----+------------------+\n",
      "\n"
     ]
    }
   ],
   "source": [
    "# Create data frame\n",
    "df = spark.createDataFrame(rdd,schema)\n",
    "print(df.schema)\n",
    "df.show()"
   ]
  },
  {
   "cell_type": "code",
   "execution_count": 7,
   "id": "d133bd08",
   "metadata": {},
   "outputs": [
    {
     "name": "stdout",
     "output_type": "stream",
     "text": [
      "+----------+-----+------------------+\n",
      "|  Category|Count|       Description|\n",
      "+----------+-----+------------------+\n",
      "|Category B|  120|This is category B|\n",
      "|      null|  150|This is category C|\n",
      "+----------+-----+------------------+\n",
      "\n"
     ]
    }
   ],
   "source": [
    "updated = df.dropna(subset = \"Count\")\n",
    "updated.show()"
   ]
  },
  {
   "cell_type": "code",
   "execution_count": 9,
   "id": "c333be6b",
   "metadata": {},
   "outputs": [
    {
     "data": {
      "text/plain": [
       "Row(Category='Category B', Count=120, Description='This is category B')"
      ]
     },
     "execution_count": 9,
     "metadata": {},
     "output_type": "execute_result"
    }
   ],
   "source": [
    "header = updated.first()\n",
    "header"
   ]
  },
  {
   "cell_type": "code",
   "execution_count": null,
   "id": "d1d16917",
   "metadata": {},
   "outputs": [],
   "source": []
  }
 ],
 "metadata": {
  "kernelspec": {
   "display_name": "Python 3",
   "language": "python",
   "name": "python3"
  },
  "language_info": {
   "codemirror_mode": {
    "name": "ipython",
    "version": 3
   },
   "file_extension": ".py",
   "mimetype": "text/x-python",
   "name": "python",
   "nbconvert_exporter": "python",
   "pygments_lexer": "ipython3",
   "version": "3.8.5"
  }
 },
 "nbformat": 4,
 "nbformat_minor": 5
}
